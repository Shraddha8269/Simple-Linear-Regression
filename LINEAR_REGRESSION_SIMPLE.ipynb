{
 "cells": [
  {
   "cell_type": "code",
   "execution_count": 5,
   "metadata": {},
   "outputs": [],
   "source": [
    "import numpy as np\n",
    "from matplotlib import pyplot as plt"
   ]
  },
  {
   "cell_type": "code",
   "execution_count": 8,
   "metadata": {},
   "outputs": [],
   "source": [
    "def gradient_decent(x,y,iterations):\n",
    "    m_curr=b_curr=0\n",
    "    l=0.008\n",
    "    cost_=[]\n",
    "    m=len(x)\n",
    "    \n",
    "    for i in range(0,iterations):\n",
    "        #Calculating the hypothesis function y=b0+b1x\n",
    "        y_pred=m_curr*x+b_curr  \n",
    "        #Calculating the cost function\n",
    "        cost=1/m*sum([val**2 for val in (y-y_pred)])\n",
    "        #Updating the coefficients simultaneoulsy\n",
    "        md=-2/m*sum(x*(y-y_pred))\n",
    "        bd=-2/m*sum(y-y_pred)\n",
    "        m_curr-=l*md\n",
    "        b_curr=-l*bd\n",
    "        cost_.append(cost)\n",
    "    return(m_curr,b_curr,cost_)"
   ]
  },
  {
   "cell_type": "code",
   "execution_count": 9,
   "metadata": {},
   "outputs": [
    {
     "name": "stdout",
     "output_type": "stream",
     "text": [
      "The values of parameters are:\n",
      "theta0 0.009862218999274888\n",
      "theta1 2.7245830311820147\n"
     ]
    },
    {
     "data": {
      "image/png": "[encoded data removed]",
      "text/plain": [
       "<Figure size 432x288 with 1 Axes>"
      ]
     },
     "metadata": {
      "needs_background": "light"
     },
     "output_type": "display_data"
    }
   ],
   "source": [
    "x=np.array([1,2,3,4,5])\n",
    "y=np.array([5,7,9,11,12])\n",
    "m_curr,b_curr,cost=gradient_decent(x,y)\n",
    "print(\"The values of parameters are:\")\n",
    "print(\"theta0\",b_curr)\n",
    "print(\"theta1\",m_curr)\n",
    "plt.plot(np.arange(1000), cost, 'r')\n",
    "plt.xlabel('Iterations')\n",
    "plt.ylabel('Cost')\n",
    "plt.title('Error vs Iterations')\n",
    "plt.show()"
   ]
  },
  {
   "cell_type": "code",
   "execution_count": null,
   "metadata": {},
   "outputs": [],
   "source": []
  }
 ],
 "metadata": {
  "kernelspec": {
   "display_name": "Python 3",
   "language": "python",
   "name": "python3"
  },
  "language_info": {
   "codemirror_mode": {
    "name": "ipython",
    "version": 3
   },
   "file_extension": ".py",
   "mimetype": "text/x-python",
   "name": "python",
   "nbconvert_exporter": "python",
   "pygments_lexer": "ipython3",
   "version": "3.8.3"
  }
 },
 "nbformat": 4,
 "nbformat_minor": 4
}
